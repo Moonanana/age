{
 "cells": [
  {
   "cell_type": "code",
   "execution_count": 2,
   "metadata": {},
   "outputs": [
    {
     "name": "stdout",
     "output_type": "stream",
     "text": [
      "请问你有没有开过车？44\n",
      "只能输入 有/没有\n"
     ]
    },
    {
     "ename": "SystemExit",
     "evalue": "",
     "output_type": "error",
     "traceback": [
      "An exception has occurred, use %tb to see the full traceback.\n",
      "\u001b[0;31mSystemExit\u001b[0m\n"
     ]
    },
    {
     "name": "stderr",
     "output_type": "stream",
     "text": [
      "/Users/monica/opt/anaconda3/lib/python3.8/site-packages/IPython/core/interactiveshell.py:3426: UserWarning: To exit: use 'exit', 'quit', or Ctrl-D.\n",
      "  warn(\"To exit: use 'exit', 'quit', or Ctrl-D.\", stacklevel=1)\n"
     ]
    }
   ],
   "source": [
    "driving = input('请问你有没有开过车？')\n",
    "if driving != '有' and driving != '没有':\n",
    "    print('只能输入 有/没有')\n",
    "    raise SystemExit   #回答不是有或没有的话，让它触发SystemExit这个错误\n",
    "    \n",
    "age = input('请问你的年龄？')\n",
    "\n",
    "if driving == '有':\n",
    "    if int(age) >= 18:\n",
    "        print('你通过测验了')\n",
    "    else:\n",
    "        print('奇怪，你怎么会有开过车')\n",
    "elif driving == '没有':\n",
    "    if int(age) >= 18:\n",
    "        print('你可以考驾照了啊，怎么还不去考')\n",
    "    else:\n",
    "        print('很好，再过几年就可以考驾照了')"
   ]
  },
  {
   "cell_type": "code",
   "execution_count": null,
   "metadata": {},
   "outputs": [],
   "source": []
  }
 ],
 "metadata": {
  "kernelspec": {
   "display_name": "Python 3",
   "language": "python",
   "name": "python3"
  },
  "language_info": {
   "codemirror_mode": {
    "name": "ipython",
    "version": 3
   },
   "file_extension": ".py",
   "mimetype": "text/x-python",
   "name": "python",
   "nbconvert_exporter": "python",
   "pygments_lexer": "ipython3",
   "version": "3.8.5"
  }
 },
 "nbformat": 4,
 "nbformat_minor": 4
}
